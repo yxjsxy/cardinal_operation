{
 "cells": [
  {
   "cell_type": "code",
   "execution_count": 4,
   "metadata": {},
   "outputs": [],
   "source": [
    "import pandas as pd\n",
    "import numpy as np\n",
    "import os\n",
    "\n",
    "#读取18年到19年2月的订单量数据表，提取字段整合成一张订单量数据表\n",
    "first = 0\n",
    "for i in os.listdir('/Users/xiujiayang/PycharmProjects/cardinalintern/data_process_train/order_data'):\n",
    "    if first == 0:\n",
    "        order_data = pd.read_csv('/Users/xiujiayang/PycharmProjects/cardinalintern/data_process_train/order_data/'+i,\n",
    "                             usecols=['Calendar Day','Banner Name','Sold-to party','Sold-to party Name','Plant Code',\n",
    "                              'Plant Name','Material','Material Description','Final Expect Qty'])\n",
    "        first = 1\n",
    "    else:\n",
    "        new_data = pd.read_csv('/Users/xiujiayang/PycharmProjects/cardinalintern/data_process_train/order_data/'+i,\n",
    "                             usecols=['Calendar Day','Banner Name','Sold-to party','Sold-to party Name','Plant Code',\n",
    "                              'Plant Name','Material','Material Description','Final Expect Qty'])\n",
    "        order_data = order_data.append(new_data)\n",
    "print('订单量数据读取完毕，订单量数据维度为',order_data.shape)\n",
    "\n",
    "#字段名称重新命名，命名格式为小写字母，如果多个单词使用下划线隔开，例如date、order_qty等\n",
    "order_data.rename(columns={'Calendar Day':'date','Banner Name':'customer_group','Sold-to party':'customer_code',\n",
    "                          'Sold-to party Name':'customer_name','Plant Code':'plant_code','Plant Name':'plant_name',\n",
    "                          'Material':'material','Material Description':'material_description','Final Expect Qty':'oder_qty'},\n",
    "                           inplace=True)\n",
    "print('完成字段重新命名')\n"
   ]
  },
  {
   "cell_type": "code",
   "execution_count": null,
   "metadata": {},
   "outputs": [
    {
     "name": "stdout",
     "output_type": "stream",
     "text": [
      "商品数据读取完毕，商品数据维度为 (18852, 4)\n   material   brand   category      bar_code\n0  15092579  MAGNUM  ICE CREAM  6.909493e+12\n1  15092580  MAGNUM  ICE CREAM  6.909493e+12\n2  15092581   KNORR    SAVOURY  4.902112e+12\n3  15092582   KNORR    SAVOURY  9.902089e+12\n4  15092583   KNORR    SAVOURY  6.922849e+12\n"
     ]
    }
   ],
   "source": [
    "#读取商品数据，提取1.2中的字段整合成一张商品信息表\n",
    "sku_data = pd.read_excel('/Users/xiujiayang/PycharmProjects/cardinalintern/data_process_train/sku_data/Material+PH+report+GCC+-+Mar%2c2019.xlsx')\n",
    "sku_data = sku_data.loc[:,['Material Code','L5-Brand','L3-Category','PC EAN']]\n",
    "sku_data.rename(columns={'Material Code':'material','PC EAN':'bar_code','L5-Brand':'brand','L3-Category':'category'},\n",
    "                inplace=True)\n",
    "print('商品数据读取完毕，商品数据维度为',sku_data.shape)\n",
    "print(sku_data.iloc[:5])\n"
   ]
  },
  {
   "cell_type": "code",
   "execution_count": 3,
   "metadata": {},
   "outputs": [
    {
     "name": "stdout",
     "output_type": "stream",
     "text": [
      "数据合并完毕，维度为 (1544633, 12)\n"
     ]
    },
    {
     "data": {
      "text/plain": [
       "customer_group  customer_name   plant_name               bar_code      date    \n",
       "CARREFOUR       上海家源商业有限公司天山路店  IC-CD-Shanghai South DC  6.909493e+12  20180706    0\n",
       "                                                                       20180710    5\n",
       "                                                                       20180829    2\n",
       "                                                                       20180831    2\n",
       "                                                                       20180903    0\n",
       "Name: oder_qty, dtype: int64"
      ]
     },
     "execution_count": 3,
     "metadata": {},
     "output_type": "execute_result"
    }
   ],
   "source": [
    "#订单量数据表中，根据商品编码从商品信息表中匹配上品牌，品类和bar_code\n",
    "data = pd.merge(order_data,sku_data,on='material')\n",
    "print('数据合并完毕，维度为',data.shape)\n",
    "data1 = data.loc[:,['customer_group','customer_name','plant_name','bar_code','date']]\n",
    "data1 = data.groupby(['customer_group','customer_name','plant_name','bar_code','date']).oder_qty.sum()\n",
    "data1.iloc[:5]"
   ]
  },
  {
   "cell_type": "code",
   "execution_count": null,
   "metadata": {},
   "outputs": [
    {
     "name": "stdout",
     "output_type": "stream",
     "text": [
      "完成1/10\n",
      "完成1/10\n",
      "完成1/10\n",
      "完成1/10\n",
      "完成1/10\n",
      "完成1/10\n",
      "完成1/10\n",
      "完成1/10\n",
      "完成1/10\n",
      "完成1/10\n",
      "完成1/10\n"
     ]
    },
    {
     "name": "stderr",
     "output_type": "stream",
     "text": [
      "/Users/xiujiayang/anaconda3/envs/python36/lib/python3.6/site-packages/ipykernel_launcher.py:21: SettingWithCopyWarning: \n",
      "A value is trying to be set on a copy of a slice from a DataFrame\n",
      "\n",
      "See the caveats in the documentation: http://pandas.pydata.org/pandas-docs/stable/indexing.html#indexing-view-versus-copy\n"
     ]
    }
   ],
   "source": [
    "#处理bar_code与品类品牌一一对应关系\n",
    "dict_bar2brand1, bar_code_list = {},[]\n",
    "for i in range(data.shape[0]):\n",
    "    dict_bar2brand1[(data.iloc[i]['bar_code'],data.iloc[i]['brand'],\n",
    "                     data.iloc[i]['category'])] = dict_bar2brand1.get((data.iloc[i]['bar_code'],\n",
    "                                                                       data.iloc[i]['brand'],data.iloc[i]['category']),1)+1\n",
    "    if data.iloc[i]['bar_code'] not in bar_code_list:\n",
    "        bar_code_list.append(data.iloc[i]['bar_code'])\n",
    "    if i % (data.shape[0]//10) == 0:\n",
    "        print('完成1/10')\n",
    "dict_bar2brand = {}\n",
    "for i in bar_code_list:\n",
    "    max_count = 0\n",
    "    for j in dict_bar2brand1.keys():\n",
    "        if i == j[0]:\n",
    "            if dict_bar2brand1[j] > max_count:\n",
    "                dict_bar2brand[i] = (j[1],j[2])\n",
    "count = 0\n",
    "for i in range(data.shape[0]):\n",
    "    if (data.iloc[i]['brand'], data.iloc[i]['category']) != dict_bar2brand[data.iloc[i]['bar_code']]:\n",
    "        data.iloc[i]['brand'],data.iloc[i]['category'] = dict_bar2brand[data.iloc[i]['bar_code']][0],dict_bar2brand[data.iloc[i]['bar_code']][1]\n",
    "        count += 1\n",
    "print('完成bar_code与品类品牌一一对应关系的处理,改进',count,'个错误对应')\n",
    "        \n"
   ]
  },
  {
   "cell_type": "code",
   "execution_count": null,
   "metadata": {},
   "outputs": [],
   "source": [
    "#追溯历史上订单量数据\n",
    "#2019年客户+bar_code的仓库架构\n",
    "\n",
    "ic_cold_count = 0 \n",
    "rows = [i for i in range(data.shape[0]) if 'IC' in str(data.iloc[i]['plant_name']) or 'Cold' in str(data.iloc[i]['plant_name'])]\n",
    "print('去掉仓库里带IC、Cold的数据,一共',len(rows),'个数据')\n",
    "data.drop(rows,inplace=True)\n",
    "data_2019 = data.loc[data['date'].isin (['2019010'+str(i) for i in range(1,10)]+\n",
    "                     ['201901'+str(i) for i in range(10,32)]+['2019020'+str(i) for i in range(1,10)]+\n",
    "                     ['201902'+str(i) for i in range(10,29)])]\n",
    "data_not_2019 = data.loc[~data['date'].isin (['2019010'+str(i) for i in range(1,10)]+\n",
    "                     ['201901'+str(i) for i in range(10,32)]+['2019020'+str(i) for i in range(1,10)]+\n",
    "                     ['201902'+str(i) for i in range(10,29)])]\n",
    "#data_2019 = data_2019.groupby(['customer_name','bar_code'])\n",
    "dict_bar_customer = {}\n",
    "bar_cur_list = []\n",
    "for i in range(data_2019.shape[0]):\n",
    "    dict_bar_customer[(data_2019.iloc[i]['bar_code'],data_2019.iloc[i]['customer_name'],\n",
    "                      data_2019.iloc[i]['plant_name'])] = dict_bar_customer.get((data_2019.iloc[i]['bar_code'],\n",
    "                                                        data_2019.iloc[i]['customer_name'],data_2019.iloc[i]['plant_name']),1) + 1\n",
    "    if (data_2019.iloc[i]['bar_code'],data_2019.iloc[i]['customer_name']) not in bar_cur_list:\n",
    "        bar_cur_list.append((data_2019.iloc[i]['bar_code'],data_2019.iloc[i]['customer_name']))\n",
    "    if i % (data_2019.shape[0]//5) == 0:\n",
    "        print('完成1/5')\n",
    "dict_bar_customer_plant = {}\n",
    "for i in bar_cur_list:\n",
    "    max_count = 0\n",
    "    for j in dict_bar_customer.keys():\n",
    "        if i == (j[0],j[1]):\n",
    "            if dict_bar_customer[j] > max_count:\n",
    "                dict_bar_customer_plant[i] = j[2]\n",
    "\n",
    "#一部分客户+bar_code不在19年最新的仓库架构里\n",
    "count = 0\n",
    "remove_list = []\n",
    "for i in range(data_not_2019.shape[0]):\n",
    "    if (data_not_2019.iloc[i]['bar_code'],data_not_2019.iloc[i]['customer_name']) not in dict_bar_customer_plant.keys():\n",
    "        count += 1\n",
    "        remove_list.append(i)\n",
    "    if i % (data_not_2019.shape[0]//10) == 0:\n",
    "        print('完成1/10')   \n",
    "print('得舍弃订货量',count)\n",
    "data_not_2019.drop(remove_list,inplace=True)\n",
    "update_count = 0\n",
    "for i in range(data_not_2019.shape[0]):\n",
    "    if  data_not_2019.iloc[i]['plant_name'] != dict_bar_customer_plant[(data_not_2019.iloc[i]['bar_code'],\n",
    "                                                                       data_not_2019.iloc[i]['customer_name'])]:\n",
    "        data_not_2019.iloc[i]['plant_name'] = dict_bar_customer_plant[(data_not_2019.iloc[i]['bar_code'],\n",
    "                                                                       data_not_2019.iloc[i]['customer_name'])]\n",
    "        update_count += 1\n",
    "print('追溯历史上订单量数据完成，改进', update_count,'个数据')\n",
    "            \n",
    "                     \n",
    "                     \n",
    "                     "
   ]
  },
  {
   "cell_type": "code",
   "execution_count": null,
   "metadata": {},
   "outputs": [],
   "source": [
    "#将订单量数据按照客户组+客户+追溯后的仓库+bar_code+日期汇总【表A】\n",
    "data_a = pd.concat([data_2019,data_not_2019])\n",
    "data_table_a = data_a.copy()\n",
    "data_table_a = data_table_a.groupby(['customer_group','customer_name','plant_name','bar_code','date']).oder_qty.sum()\n",
    "data_table_a.to_csv('table_a.csv')\n",
    "data_table_a.head"
   ]
  },
  {
   "cell_type": "code",
   "execution_count": null,
   "metadata": {},
   "outputs": [],
   "source": [
    "#增加一列月份，格式为“2019-01-01”(即使用每月1号来表示当月)\n",
    "data_a['month'] = [str(x)[:4] +'-'+ str(x)[4:6]+'-'+'01' for x in data_a['date']]"
   ]
  },
  {
   "cell_type": "code",
   "execution_count": null,
   "metadata": {},
   "outputs": [],
   "source": [
    "#将订单量数据按照客户组+追溯后的仓库+bar_code+月份汇总【表B】\n",
    "data_b = data_a.loc[:,['customer_group','plant_name','bar_code','month','oder_qty']]\n",
    "data_table_b = data_b.groupby(['customer_group','plant_name','bar_code','month']).oder_qty.sum()\n",
    "data_table_b.to_csv('table_b.csv')\n",
    "data_table_b.head"
   ]
  },
  {
   "cell_type": "code",
   "execution_count": null,
   "metadata": {},
   "outputs": [],
   "source": [
    "import datetime\n",
    "\n",
    "data_a['date'] = pd.to_datetime(data_a['date'],format='%Y%m%d')\n",
    "min_date = np.min(data_a['date'])\n",
    "max_date = np.max(data_a['date'])\n",
    "data_c = data_a.groupby(['bar_code','date']).oder_qty.sum()\n",
    "data_c = data_c.unstack()\n",
    "\n",
    "def getEveryDay(begin_date,end_date):\n",
    "    date_list = []\n",
    "    while begin_date <= end_date:\n",
    "        date_str = begin_date.strftime(\"%Y-%m-%d\")\n",
    "        date_list.append(date_str)\n",
    "        begin_date += datetime.timedelta(days=1)\n",
    "    return date_list\n",
    "datelist = getEveryDay(min_date,max_date)\n",
    "data_table_c = pd.DataFrame(columns=datelist,index=data_c.index)\n",
    "for i in data_c.index:\n",
    "    for j in datelist:\n",
    "        if j in data_c.columns:\n",
    "            data_table_c.loc[i,j] = data_c.loc[i,j]\n",
    "        else:\n",
    "            data_table_c.loc[i,j] = 0\n",
    "data_table_c.to_csv('table_c.vsv')\n",
    "data_table_c.head "
   ]
  },
  {
   "cell_type": "code",
   "execution_count": null,
   "metadata": {},
   "outputs": [],
   "source": [
    "import matplotlib.pyplot as plt\n",
    "total = data_table_c.shape[0]\n",
    "print(total)\n",
    "for i in range(data_table_c.shape[0]):\n",
    "    plt.figure(i)\n",
    "    data_table_c.iloc[i].plot()"
   ]
  },
  {
   "cell_type": "code",
   "execution_count": null,
   "metadata": {},
   "outputs": [],
   "source": []
  }
 ],
 "metadata": {
  "kernelspec": {
   "display_name": "Python 3",
   "language": "python",
   "name": "python3"
  },
  "language_info": {
   "codemirror_mode": {
    "name": "ipython",
    "version": 3
   },
   "file_extension": ".py",
   "mimetype": "text/x-python",
   "name": "python",
   "nbconvert_exporter": "python",
   "pygments_lexer": "ipython3",
   "version": "3.6.7"
  }
 },
 "nbformat": 4,
 "nbformat_minor": 1
}
